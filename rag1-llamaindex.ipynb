{
 "cells": [
  {
   "cell_type": "markdown",
   "metadata": {},
   "source": [
    "# Bibliotecas e chaves"
   ]
  },
  {
   "cell_type": "code",
   "execution_count": 23,
   "metadata": {},
   "outputs": [
    {
     "name": "stdout",
     "output_type": "stream",
     "text": [
      "WARNING:tensorflow:From c:\\Users\\Allan\\AppData\\Local\\Programs\\Python\\Python312\\Lib\\site-packages\\keras\\src\\losses.py:2976: The name tf.losses.sparse_softmax_cross_entropy is deprecated. Please use tf.compat.v1.losses.sparse_softmax_cross_entropy instead.\n",
      "\n"
     ]
    }
   ],
   "source": [
    "import os\n",
    "from dotenv import load_dotenv\n",
    "from llama_index.llms.groq import Groq\n",
    "from llama_index.core import PromptTemplate\n",
    "from llama_index.core import VectorStoreIndex, SimpleDirectoryReader\n",
    "from llama_index.embeddings.huggingface import HuggingFaceEmbedding\n",
    "from llama_index.core import Settings\n",
    "\n"
   ]
  },
  {
   "cell_type": "code",
   "execution_count": 3,
   "metadata": {},
   "outputs": [],
   "source": [
    "load_dotenv()\n",
    "GROQ_API = os.environ.get(\"GROQ_API\")"
   ]
  },
  {
   "cell_type": "markdown",
   "metadata": {},
   "source": [
    "# Inferência simples"
   ]
  },
  {
   "cell_type": "code",
   "execution_count": 5,
   "metadata": {},
   "outputs": [],
   "source": [
    "#Definindo o modelo que vamos usar\n",
    "llm = Groq(model='llama3-70b-8192', api_key=GROQ_API)"
   ]
  },
  {
   "cell_type": "code",
   "execution_count": 7,
   "metadata": {},
   "outputs": [],
   "source": [
    "response = llm.complete('Qual é o treino usado pelo personagem Saitama de One Punch Man')"
   ]
  },
  {
   "cell_type": "code",
   "execution_count": 8,
   "metadata": {},
   "outputs": [
    {
     "data": {
      "text/plain": [
       "CompletionResponse(text='Uma pergunta clássica!\\n\\nNo anime e mangá One Punch Man, o personagem Saitama é conhecido por sua habilidade sobre-humana de derrotar qualquer oponente com apenas um golpe. Embora sua habilidade seja apresentada como uma habilidade natural, Saitama revela que alcançou esse nível de força através de um treinamento intensivo e rigoroso.\\n\\nO treinamento de Saitama é conhecido como \"100 Push-ups, 100 Squats, 100 Sit-ups, e uma corrida de 10 km todos os dias\". Sim, você leu certo! Saitama realiza esses exercícios todos os dias, sem falta, para manter e melhorar sua força e resistência.\\n\\nEssa rotina de treinamento é apresentada como uma piada, pois é uma combinação de exercícios comuns e uma corrida longa, mas não é nada especial ou mágico. No entanto, é a dedicação e a consistência de Saitama em realizar esses exercícios todos os dias que o tornam tão forte.\\n\\nAlém disso, Saitama também é apresentado como alguém que não tem interesse em melhorar suas habilidades ou aprender novas técnicas, pois acredita que sua força é suficiente para derrotar qualquer oponente. Isso é uma característica cômica do personagem e uma crítica à ideia de que a força é a única coisa que importa em uma luta.\\n\\nEm resumo, o treinamento de Saitama é uma combinação de exercícios físicos comuns, realizados com dedicação e consistência, que o tornam um dos personagens mais fortes do anime e mangá.', additional_kwargs={}, raw=ChatCompletion(id='chatcmpl-801da7f9-2f3d-41ee-a45a-f93a627dca01', choices=[Choice(finish_reason='stop', index=0, logprobs=None, message=ChatCompletionMessage(content='Uma pergunta clássica!\\n\\nNo anime e mangá One Punch Man, o personagem Saitama é conhecido por sua habilidade sobre-humana de derrotar qualquer oponente com apenas um golpe. Embora sua habilidade seja apresentada como uma habilidade natural, Saitama revela que alcançou esse nível de força através de um treinamento intensivo e rigoroso.\\n\\nO treinamento de Saitama é conhecido como \"100 Push-ups, 100 Squats, 100 Sit-ups, e uma corrida de 10 km todos os dias\". Sim, você leu certo! Saitama realiza esses exercícios todos os dias, sem falta, para manter e melhorar sua força e resistência.\\n\\nEssa rotina de treinamento é apresentada como uma piada, pois é uma combinação de exercícios comuns e uma corrida longa, mas não é nada especial ou mágico. No entanto, é a dedicação e a consistência de Saitama em realizar esses exercícios todos os dias que o tornam tão forte.\\n\\nAlém disso, Saitama também é apresentado como alguém que não tem interesse em melhorar suas habilidades ou aprender novas técnicas, pois acredita que sua força é suficiente para derrotar qualquer oponente. Isso é uma característica cômica do personagem e uma crítica à ideia de que a força é a única coisa que importa em uma luta.\\n\\nEm resumo, o treinamento de Saitama é uma combinação de exercícios físicos comuns, realizados com dedicação e consistência, que o tornam um dos personagens mais fortes do anime e mangá.', refusal=None, role='assistant', function_call=None, tool_calls=None))], created=1729513097, model='llama3-70b-8192', object='chat.completion', service_tier=None, system_fingerprint='fp_2f30b0b571', usage=CompletionUsage(completion_tokens=385, prompt_tokens=26, total_tokens=411, queue_time=0.014576071, prompt_time=0.000754988, completion_time=1.178162995, total_time=1.178917983), x_groq={'id': 'req_01jaqg71t7eqkr2qewrwprmecz'}), logprobs=None, delta=None)"
      ]
     },
     "execution_count": 8,
     "metadata": {},
     "output_type": "execute_result"
    }
   ],
   "source": [
    "response"
   ]
  },
  {
   "cell_type": "code",
   "execution_count": 9,
   "metadata": {},
   "outputs": [
    {
     "name": "stdout",
     "output_type": "stream",
     "text": [
      "Uma pergunta clássica!\n",
      "\n",
      "No anime e mangá One Punch Man, o personagem Saitama é conhecido por sua habilidade sobre-humana de derrotar qualquer oponente com apenas um golpe. Embora sua habilidade seja apresentada como uma habilidade natural, Saitama revela que alcançou esse nível de força através de um treinamento intensivo e rigoroso.\n",
      "\n",
      "O treinamento de Saitama é conhecido como \"100 Push-ups, 100 Squats, 100 Sit-ups, e uma corrida de 10 km todos os dias\". Sim, você leu certo! Saitama realiza esses exercícios todos os dias, sem falta, para manter e melhorar sua força e resistência.\n",
      "\n",
      "Essa rotina de treinamento é apresentada como uma piada, pois é uma combinação de exercícios comuns e uma corrida longa, mas não é nada especial ou mágico. No entanto, é a dedicação e a consistência de Saitama em realizar esses exercícios todos os dias que o tornam tão forte.\n",
      "\n",
      "Além disso, Saitama também é apresentado como alguém que não tem interesse em melhorar suas habilidades ou aprender novas técnicas, pois acredita que sua força é suficiente para derrotar qualquer oponente. Isso é uma característica cômica do personagem e uma crítica à ideia de que a força é a única coisa que importa em uma luta.\n",
      "\n",
      "Em resumo, o treinamento de Saitama é uma combinação de exercícios físicos comuns, realizados com dedicação e consistência, que o tornam um dos personagens mais fortes do anime e mangá.\n",
      "\n"
     ]
    }
   ],
   "source": [
    "paragrafos = response.text.split(\"\\n\\n\")\n",
    "for paragrafo in paragrafos:\n",
    "    print(paragrafo)\n",
    "    print()"
   ]
  },
  {
   "cell_type": "markdown",
   "metadata": {},
   "source": [
    "# Prompt Template"
   ]
  },
  {
   "cell_type": "code",
   "execution_count": 11,
   "metadata": {},
   "outputs": [],
   "source": [
    "text_qa_template_str = (\n",
    "    \"Context information is\"\n",
    "    \" below.\\n---------------------\\n{context_str}\\n---------------------\\nUsing\"\n",
    "    \" both the context information and also using your own knowledge, answer\"\n",
    "    \" the question: {query_str}\\nIf the context isn't helpful, you can also\"\n",
    "    \" answer the question on your own.\\n\"\n",
    ")"
   ]
  },
  {
   "cell_type": "code",
   "execution_count": 12,
   "metadata": {},
   "outputs": [
    {
     "data": {
      "text/plain": [
       "PromptTemplate(metadata={'prompt_type': <PromptType.CUSTOM: 'custom'>}, template_vars=['context_str', 'query_str'], kwargs={}, output_parser=None, template_var_mappings=None, function_mappings=None, template=\"Context information is below.\\n---------------------\\n{context_str}\\n---------------------\\nUsing both the context information and also using your own knowledge, answer the question: {query_str}\\nIf the context isn't helpful, you can also answer the question on your own.\\n\")"
      ]
     },
     "execution_count": 12,
     "metadata": {},
     "output_type": "execute_result"
    }
   ],
   "source": [
    "text_qa_template = PromptTemplate(text_qa_template_str)\n",
    "text_qa_template"
   ]
  },
  {
   "cell_type": "code",
   "execution_count": 13,
   "metadata": {},
   "outputs": [],
   "source": [
    "refine_template_str = (\n",
    "    \"The original question is as follows: {query_str}\\nWe have provided an\"\n",
    "    \" existing answer: {existing_answer}\\nWe have the opportunity to refine\"\n",
    "    \" the existing answer (only if needed) with some more context\"\n",
    "    \" below.\\n------------\\n{context_msg}\\n------------\\nUsing both the new\"\n",
    "    \" context and your own knowledge, update or repeat the existing answer.\\n\"\n",
    ")\n"
   ]
  },
  {
   "cell_type": "code",
   "execution_count": 14,
   "metadata": {},
   "outputs": [],
   "source": [
    "refine_template = PromptTemplate(refine_template_str)"
   ]
  },
  {
   "cell_type": "code",
   "execution_count": 16,
   "metadata": {},
   "outputs": [
    {
     "name": "stderr",
     "output_type": "stream",
     "text": [
      "  % Total    % Received % Xferd  Average Speed   Time    Time     Time  Current\n",
      "                                 Dload  Upload   Total   Spent    Left  Speed\n",
      "\n",
      "  0     0    0     0    0     0      0      0 --:--:-- --:--:-- --:--:--     0\n",
      "100 75042  100 75042    0     0   256k      0 --:--:-- --:--:-- --:--:--  260k\n"
     ]
    }
   ],
   "source": [
    "!mkdir data\\paul_graham\n",
    "!curl -o data\\paul_graham\\paul_graham_essay.txt https://raw.githubusercontent.com/run-llama/llama_index/main/docs/docs/examples/data/paul_graham/paul_graham_essay.txt"
   ]
  },
  {
   "cell_type": "code",
   "execution_count": 19,
   "metadata": {},
   "outputs": [],
   "source": [
    "documents = SimpleDirectoryReader(\"./data/paul_graham/\").load_data()"
   ]
  },
  {
   "cell_type": "code",
   "execution_count": 24,
   "metadata": {},
   "outputs": [
    {
     "name": "stderr",
     "output_type": "stream",
     "text": [
      "c:\\Users\\Allan\\AppData\\Local\\Programs\\Python\\Python312\\Lib\\site-packages\\huggingface_hub\\file_download.py:159: UserWarning: `huggingface_hub` cache-system uses symlinks by default to efficiently store duplicated files but your machine does not support them in C:\\Users\\Allan\\AppData\\Local\\llama_index\\models--TencentBAC--Conan-embedding-v1. Caching files will still work but in a degraded version that might require more space on your disk. This warning can be disabled by setting the `HF_HUB_DISABLE_SYMLINKS_WARNING` environment variable. For more details, see https://huggingface.co/docs/huggingface_hub/how-to-cache#limitations.\n",
      "To support symlinks on Windows, you either need to activate Developer Mode or to run Python as an administrator. In order to see activate developer mode, see this article: https://docs.microsoft.com/en-us/windows/apps/get-started/enable-your-device-for-development\n",
      "  warnings.warn(message)\n",
      "c:\\Users\\Allan\\AppData\\Local\\Programs\\Python\\Python312\\Lib\\site-packages\\huggingface_hub\\file_download.py:1150: FutureWarning: `resume_download` is deprecated and will be removed in version 1.0.0. Downloads always resume when possible. If you want to force a new download, use `force_download=True`.\n",
      "  warnings.warn(\n",
      "c:\\Users\\Allan\\AppData\\Local\\Programs\\Python\\Python312\\Lib\\site-packages\\sentence_transformers\\models\\Dense.py:89: FutureWarning: You are using `torch.load` with `weights_only=False` (the current default value), which uses the default pickle module implicitly. It is possible to construct malicious pickle data which will execute arbitrary code during unpickling (See https://github.com/pytorch/pytorch/blob/main/SECURITY.md#untrusted-models for more details). In a future release, the default value for `weights_only` will be flipped to `True`. This limits the functions that could be executed during unpickling. Arbitrary objects will no longer be allowed to be loaded via this mode unless they are explicitly allowlisted by the user via `torch.serialization.add_safe_globals`. We recommend you start setting `weights_only=True` for any use case where you don't have full control of the loaded file. Please open an issue on GitHub for any issues related to this experimental feature.\n",
      "  torch.load(os.path.join(input_path, \"pytorch_model.bin\"), map_location=torch.device(\"cpu\"))\n"
     ]
    }
   ],
   "source": [
    "Settings.embed_model = HuggingFaceEmbedding(\n",
    "    model_name=\"TencentBAC/Conan-embedding-v1\"\n",
    ")"
   ]
  },
  {
   "cell_type": "code",
   "execution_count": 25,
   "metadata": {},
   "outputs": [],
   "source": [
    "index = VectorStoreIndex.from_documents(documents,llm=llm)"
   ]
  },
  {
   "cell_type": "code",
   "execution_count": 26,
   "metadata": {},
   "outputs": [
    {
     "name": "stdout",
     "output_type": "stream",
     "text": [
      "There is no mention of Joe Biden in the provided context information.\n"
     ]
    }
   ],
   "source": [
    "#Antes de adicionar templates\n",
    "print(index.as_query_engine(llm=llm).query(\"Who is Joe Biden?\"))"
   ]
  },
  {
   "cell_type": "code",
   "execution_count": 27,
   "metadata": {},
   "outputs": [
    {
     "name": "stdout",
     "output_type": "stream",
     "text": [
      "The context information provided does not mention Joe Biden at all. It appears to be an essay or article written by Paul Graham, a well-known entrepreneur and investor, discussing his experiences and thoughts on startups, Y Combinator, and his personal life.\n",
      "\n",
      "Using my own knowledge, I can tell you that Joe Biden is the 46th and current President of the United States. He was inaugurated on January 20, 2021, and previously served as the 47th Vice President of the United States from 2009 to 2017.\n"
     ]
    }
   ],
   "source": [
    "#Depois de adicionar templates\n",
    "print(\n",
    "    index.as_query_engine(\n",
    "        text_qa_template=text_qa_template,\n",
    "        refine_template=refine_template,\n",
    "        llm=llm,\n",
    "    ).query(\"Who is Joe Biden?\")\n",
    ")"
   ]
  },
  {
   "cell_type": "code",
   "execution_count": null,
   "metadata": {},
   "outputs": [],
   "source": []
  }
 ],
 "metadata": {
  "kernelspec": {
   "display_name": "Python 3",
   "language": "python",
   "name": "python3"
  },
  "language_info": {
   "codemirror_mode": {
    "name": "ipython",
    "version": 3
   },
   "file_extension": ".py",
   "mimetype": "text/x-python",
   "name": "python",
   "nbconvert_exporter": "python",
   "pygments_lexer": "ipython3",
   "version": "3.12.3"
  }
 },
 "nbformat": 4,
 "nbformat_minor": 2
}
